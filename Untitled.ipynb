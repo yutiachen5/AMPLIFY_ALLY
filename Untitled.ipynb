{
 "cells": [
  {
   "cell_type": "code",
   "execution_count": 6,
   "id": "6b4a0733-1458-4fc6-b205-7145a2b02757",
   "metadata": {},
   "outputs": [
    {
     "data": {
      "text/plain": [
       "64363428"
      ]
     },
     "execution_count": 6,
     "metadata": {},
     "output_type": "execute_result"
    }
   ],
   "source": [
    "20334192+481445+1952996+3103096+4435944+5945667+28110088"
   ]
  },
  {
   "cell_type": "code",
   "execution_count": null,
   "id": "7f5ee766-8d21-41c7-a484-843ca7619e8d",
   "metadata": {},
   "outputs": [],
   "source": []
  }
 ],
 "metadata": {
  "kernelspec": {
   "display_name": "Python 3 (ipykernel)",
   "language": "python",
   "name": "python3"
  },
  "language_info": {
   "codemirror_mode": {
    "name": "ipython",
    "version": 3
   },
   "file_extension": ".py",
   "mimetype": "text/x-python",
   "name": "python",
   "nbconvert_exporter": "python",
   "pygments_lexer": "ipython3",
   "version": "3.11.10"
  }
 },
 "nbformat": 4,
 "nbformat_minor": 5
}
