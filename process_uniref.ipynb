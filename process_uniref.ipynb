{
 "cells": [
  {
   "cell_type": "code",
   "execution_count": 6,
   "id": "990c3161-8218-4f1e-9fd5-cb156731ab90",
   "metadata": {},
   "outputs": [],
   "source": [
    "import pandas as pd\n",
    "import random\n",
    "from tqdm import tqdm"
   ]
  },
  {
   "cell_type": "markdown",
   "id": "0812c2c5-ad42-4aaf-98a7-b1e74597fb4b",
   "metadata": {},
   "source": [
    "randomly sample 10k data from AMPLIFY's Uniref50 to be training set and 2k for validaton set.\n",
    "\n",
    "AMPLIFY-Uniref50 has 61M training sample and 10k validation sample for val ppl."
   ]
  },
  {
   "cell_type": "code",
   "execution_count": 4,
   "id": "a57ee634-95fa-4b34-bc97-cb50be913812",
   "metadata": {},
   "outputs": [],
   "source": [
    "reader = open('/hpc/group/naderilab/eleanor/AMPLIFY/uniref/mila/uniref50_train.csv', \"r\")\n",
    "writer_train = open('/hpc/group/naderilab/eleanor/AMPLIFY/uniref/efficient/uniref_train_sample.csv', \"w\")\n",
    "writer_val = open('/hpc/group/naderilab/eleanor/AMPLIFY/uniref/efficient/uniref_val_sample.csv', \"w\")\n",
    "\n",
    "writer_train.write(\"name,sequence\\n\")\n",
    "writer_val.write(\"name,sequence\\n\")\n",
    "\n",
    "n_train = 10_000\n",
    "n_val = 2_000\n",
    "n_tot = 61_000_000"
   ]
  },
  {
   "cell_type": "code",
   "execution_count": 7,
   "id": "b4997473-f005-4592-8060-f880ab52c62c",
   "metadata": {},
   "outputs": [
    {
     "name": "stderr",
     "output_type": "stream",
     "text": [
      "62.0Mrows [02:19, 443krows/s] \n"
     ]
    }
   ],
   "source": [
    "for row in tqdm(reader, unit=\"rows\", unit_scale=True):\n",
    "    rdm = random.random()\n",
    "    if rdm < n_train/n_tot:\n",
    "        writer_train.write(row)\n",
    "    elif n_train/n_tot <= rdm and rdm < (n_train+n_val)/n_tot:\n",
    "        writer_val.write(row)\n"
   ]
  },
  {
   "cell_type": "code",
   "execution_count": 8,
   "id": "292579e0-26d9-443a-9d0b-d922eda2d7a6",
   "metadata": {},
   "outputs": [],
   "source": [
    "writer_train.close()\n",
    "writer_val.close()"
   ]
  },
  {
   "cell_type": "code",
   "execution_count": null,
   "id": "95a2399a-78bb-4657-bc13-e624cc3ae6f7",
   "metadata": {},
   "outputs": [],
   "source": []
  }
 ],
 "metadata": {
  "kernelspec": {
   "display_name": "Python 3 (ipykernel)",
   "language": "python",
   "name": "python3"
  },
  "language_info": {
   "codemirror_mode": {
    "name": "ipython",
    "version": 3
   },
   "file_extension": ".py",
   "mimetype": "text/x-python",
   "name": "python",
   "nbconvert_exporter": "python",
   "pygments_lexer": "ipython3",
   "version": "3.11.10"
  }
 },
 "nbformat": 4,
 "nbformat_minor": 5
}
